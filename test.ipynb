{
 "cells": [
  {
   "cell_type": "markdown",
   "metadata": {},
   "source": [
    "Extract Email\n",
    "\n"
   ]
  },
  {
   "cell_type": "code",
   "execution_count": 17,
   "metadata": {},
   "outputs": [
    {
     "name": "stdout",
     "output_type": "stream",
     "text": [
      "shaonsikder.ewu@gmail.com\n"
     ]
    }
   ],
   "source": [
    "import re\n",
    "import docx2txt\n",
    "my_text = docx2txt.process(r\"C:\\Users\\Opus\\Desktop\\Naive-Resume-Matching-master\\Data\\Resumes\\Resume(Shaon).docx\")\n",
    "#print(my_text)\n",
    "emails = re.findall(r\"[a-z0-9\\.\\-+_]+@[a-z0-9\\.\\-+_]+\\.[a-z]+\", my_text)[0]\n",
    "print(emails)"
   ]
  },
  {
   "cell_type": "markdown",
   "metadata": {},
   "source": [
    "Phone number"
   ]
  },
  {
   "cell_type": "code",
   "execution_count": 18,
   "metadata": {},
   "outputs": [
    {
     "name": "stdout",
     "output_type": "stream",
     "text": [
      "+880 1747123472\n"
     ]
    }
   ],
   "source": [
    "Phone = re.findall(r'[\\+\\(]?[1-9][0-9 .\\-\\(\\)]{8,}[0-9]', my_text)[0]\n",
    "print(Phone)"
   ]
  },
  {
   "cell_type": "code",
   "execution_count": 20,
   "metadata": {},
   "outputs": [
    {
     "name": "stdout",
     "output_type": "stream",
     "text": [
      "Joar Sahara Bazar Road\n",
      "\n",
      "Dhaka\n"
     ]
    }
   ],
   "source": [
    "name = re.findall(r\"[^()0-9-]+\", my_text)[0]\n",
    "print(name)"
   ]
  },
  {
   "cell_type": "code",
   "execution_count": 2,
   "metadata": {},
   "outputs": [
    {
     "data": {
      "text/html": [
       "<div>\n",
       "<style scoped>\n",
       "    .dataframe tbody tr th:only-of-type {\n",
       "        vertical-align: middle;\n",
       "    }\n",
       "\n",
       "    .dataframe tbody tr th {\n",
       "        vertical-align: top;\n",
       "    }\n",
       "\n",
       "    .dataframe thead th {\n",
       "        text-align: right;\n",
       "    }\n",
       "</style>\n",
       "<table border=\"1\" class=\"dataframe\">\n",
       "  <thead>\n",
       "    <tr style=\"text-align: right;\">\n",
       "      <th></th>\n",
       "      <th>Rank</th>\n",
       "      <th>Name</th>\n",
       "      <th>Scores</th>\n",
       "      <th>Email</th>\n",
       "      <th>Phone</th>\n",
       "    </tr>\n",
       "  </thead>\n",
       "  <tbody>\n",
       "    <tr>\n",
       "      <th>0</th>\n",
       "      <td>1</td>\n",
       "      <td>senior-data-analyst-resume-example.pdf</td>\n",
       "      <td>92.754705</td>\n",
       "      <td>farahmartin@email.com</td>\n",
       "      <td>(123) 456-7890</td>\n",
       "    </tr>\n",
       "    <tr>\n",
       "      <th>1</th>\n",
       "      <td>2</td>\n",
       "      <td>data-analyst-resume.pdf</td>\n",
       "      <td>90.424296</td>\n",
       "      <td>shaonsikder.ewu@gmail.com</td>\n",
       "      <td>+880 1747123472</td>\n",
       "    </tr>\n",
       "    <tr>\n",
       "      <th>2</th>\n",
       "      <td>3</td>\n",
       "      <td>Resume(Shaon).docx</td>\n",
       "      <td>80.417532</td>\n",
       "      <td>alonsoromero@email.com</td>\n",
       "      <td>(123) 456-7890</td>\n",
       "    </tr>\n",
       "  </tbody>\n",
       "</table>\n",
       "</div>"
      ],
      "text/plain": [
       "   Rank                                    Name     Scores  \\\n",
       "0     1  senior-data-analyst-resume-example.pdf  92.754705   \n",
       "1     2                 data-analyst-resume.pdf  90.424296   \n",
       "2     3                      Resume(Shaon).docx  80.417532   \n",
       "\n",
       "                       Email            Phone  \n",
       "0      farahmartin@email.com   (123) 456-7890  \n",
       "1  shaonsikder.ewu@gmail.com  +880 1747123472  \n",
       "2     alonsoromero@email.com   (123) 456-7890  "
      ]
     },
     "execution_count": 2,
     "metadata": {},
     "output_type": "execute_result"
    }
   ],
   "source": [
    "import pandas as pd \n",
    "df = pd.read_csv(\"ShortlistedResumes.csv\")\n",
    "df.head()"
   ]
  },
  {
   "cell_type": "code",
   "execution_count": null,
   "metadata": {},
   "outputs": [],
   "source": [
    "df = df.sort_values(\n",
    "    by=['Scores'], ascending=False).reset_index(drop=True)"
   ]
  },
  {
   "cell_type": "code",
   "execution_count": null,
   "metadata": {},
   "outputs": [],
   "source": []
  }
 ],
 "metadata": {
  "interpreter": {
   "hash": "a0c73761719d425b2cb215bb8693e11bb404656c658de8c82d215c47a7c086c7"
  },
  "kernelspec": {
   "display_name": "Python 3.9.7 64-bit",
   "language": "python",
   "name": "python3"
  },
  "language_info": {
   "codemirror_mode": {
    "name": "ipython",
    "version": 3
   },
   "file_extension": ".py",
   "mimetype": "text/x-python",
   "name": "python",
   "nbconvert_exporter": "python",
   "pygments_lexer": "ipython3",
   "version": "3.9.7"
  },
  "orig_nbformat": 4
 },
 "nbformat": 4,
 "nbformat_minor": 2
}
