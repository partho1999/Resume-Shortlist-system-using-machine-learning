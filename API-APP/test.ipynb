{
 "cells": [
  {
   "cell_type": "code",
   "execution_count": 25,
   "metadata": {},
   "outputs": [],
   "source": [
    "import os\n",
    "import zipfile\n",
    "from glob import glob\n"
   ]
  },
  {
   "cell_type": "code",
   "execution_count": 26,
   "metadata": {},
   "outputs": [],
   "source": [
    "zipf = zipfile.ZipFile('python.zip','w')\n",
    "os.chdir(r'C:\\Users\\Opus\\Desktop\\Naive-Resume-Matching-master\\API\\Data\\Shortlisted')\n",
    "\n",
    "for x in os.listdir():\n",
    "    if x.endswith('pdf'):\n",
    "        zipf.write(x, compress_type= zipfile.ZIP_DEFLATED)\n",
    "    elif x.endswith('docx'):\n",
    "        zipf.write(x, compress_type= zipfile.ZIP_DEFLATED)\n",
    "zipf.close()"
   ]
  },
  {
   "cell_type": "code",
   "execution_count": 5,
   "metadata": {},
   "outputs": [
    {
     "ename": "PermissionError",
     "evalue": "[WinError 5] Access is denied: 'D:\\\\Naive-Resume-Matching-master\\\\API\\\\Data\\\\JobDesc'",
     "output_type": "error",
     "traceback": [
      "\u001b[1;31m---------------------------------------------------------------------------\u001b[0m",
      "\u001b[1;31mPermissionError\u001b[0m                           Traceback (most recent call last)",
      "\u001b[1;32md:\\Naive-Resume-Matching-master\\API\\test.ipynb Cell 3'\u001b[0m in \u001b[0;36m<module>\u001b[1;34m\u001b[0m\n\u001b[0;32m      <a href='vscode-notebook-cell:/d%3A/Naive-Resume-Matching-master/API/test.ipynb#ch0000003?line=3'>4</a>\u001b[0m files \u001b[39m=\u001b[39m glob\u001b[39m.\u001b[39mglob(\u001b[39m'\u001b[39m\u001b[39mD:\u001b[39m\u001b[39m\\\\\u001b[39;00m\u001b[39mNaive-Resume-Matching-master\u001b[39m\u001b[39m\\\\\u001b[39;00m\u001b[39mAPI\u001b[39m\u001b[39m\\\\\u001b[39;00m\u001b[39mData\u001b[39m\u001b[39m\\\\\u001b[39;00m\u001b[39mJobDesc\u001b[39m\u001b[39m'\u001b[39m)\n\u001b[0;32m      <a href='vscode-notebook-cell:/d%3A/Naive-Resume-Matching-master/API/test.ipynb#ch0000003?line=4'>5</a>\u001b[0m \u001b[39mfor\u001b[39;00m f \u001b[39min\u001b[39;00m files:\n\u001b[1;32m----> <a href='vscode-notebook-cell:/d%3A/Naive-Resume-Matching-master/API/test.ipynb#ch0000003?line=5'>6</a>\u001b[0m     os\u001b[39m.\u001b[39;49mremove(f)\n",
      "\u001b[1;31mPermissionError\u001b[0m: [WinError 5] Access is denied: 'D:\\\\Naive-Resume-Matching-master\\\\API\\\\Data\\\\JobDesc'"
     ]
    }
   ],
   "source": [
    "import os\n",
    "mydir = 'D:\\\\Naive-Resume-Matching-master\\\\API\\\\Data\\\\JobDesc'\n",
    "filelist = [f for f in os.listdir(mydir)]\n",
    "#if f ends with .bak: change this to any file entension\n",
    "for f in filelist:\n",
    "    os.remove(os.path.join(mydir, f))"
   ]
  }
 ],
 "metadata": {
  "interpreter": {
   "hash": "a0c73761719d425b2cb215bb8693e11bb404656c658de8c82d215c47a7c086c7"
  },
  "kernelspec": {
   "display_name": "Python 3.9.7 64-bit",
   "language": "python",
   "name": "python3"
  },
  "language_info": {
   "codemirror_mode": {
    "name": "ipython",
    "version": 3
   },
   "file_extension": ".py",
   "mimetype": "text/x-python",
   "name": "python",
   "nbconvert_exporter": "python",
   "pygments_lexer": "ipython3",
   "version": "3.9.7"
  },
  "orig_nbformat": 4
 },
 "nbformat": 4,
 "nbformat_minor": 2
}
