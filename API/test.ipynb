{
 "cells": [
  {
   "cell_type": "code",
   "execution_count": 25,
   "metadata": {},
   "outputs": [],
   "source": [
    "import os\n",
    "import zipfile\n",
    "from glob import glob\n"
   ]
  },
  {
   "cell_type": "code",
   "execution_count": 26,
   "metadata": {},
   "outputs": [],
   "source": [
    "zipf = zipfile.ZipFile('python.zip','w')\n",
    "os.chdir(r'C:\\Users\\Opus\\Desktop\\Naive-Resume-Matching-master\\API\\Data\\Shortlisted')\n",
    "\n",
    "for x in os.listdir():\n",
    "    if x.endswith('pdf'):\n",
    "        zipf.write(x, compress_type= zipfile.ZIP_DEFLATED)\n",
    "    elif x.endswith('docx'):\n",
    "        zipf.write(x, compress_type= zipfile.ZIP_DEFLATED)\n",
    "zipf.close()"
   ]
  }
 ],
 "metadata": {
  "interpreter": {
   "hash": "a0c73761719d425b2cb215bb8693e11bb404656c658de8c82d215c47a7c086c7"
  },
  "kernelspec": {
   "display_name": "Python 3.9.7 64-bit",
   "language": "python",
   "name": "python3"
  },
  "language_info": {
   "codemirror_mode": {
    "name": "ipython",
    "version": 3
   },
   "file_extension": ".py",
   "mimetype": "text/x-python",
   "name": "python",
   "nbconvert_exporter": "python",
   "pygments_lexer": "ipython3",
   "version": "3.9.7"
  },
  "orig_nbformat": 4
 },
 "nbformat": 4,
 "nbformat_minor": 2
}
